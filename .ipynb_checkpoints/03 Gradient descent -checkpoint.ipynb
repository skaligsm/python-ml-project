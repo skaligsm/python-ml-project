{
 "cells": [
  {
   "cell_type": "markdown",
   "id": "59d08d3d",
   "metadata": {},
   "source": [
    " # Notebook Import and Pakages\n",
    " "
   ]
  },
  {
   "cell_type": "code",
   "execution_count": null,
   "id": "f6674055",
   "metadata": {},
   "outputs": [],
   "source": [
    "import matplotlib.pyplot as plt\n",
    "import numpy as np\n",
    "\n",
    "%matplotlib inline "
   ]
  },
  {
   "cell_type": "markdown",
   "id": "1ce64328",
   "metadata": {},
   "source": [
    "# Example 1 --A simple cost function\n",
    "\n",
    "$$f(x) = x^2+x+1$$"
   ]
  },
  {
   "cell_type": "code",
   "execution_count": null,
   "id": "b2d00dd4",
   "metadata": {},
   "outputs": [],
   "source": [
    "def f(x):\n",
    "    return x**2 +x + 2"
   ]
  },
  {
   "cell_type": "code",
   "execution_count": null,
   "id": "c2471966",
   "metadata": {},
   "outputs": [],
   "source": [
    "#Make Data\n",
    "x_1 = np.linspace(start=-3,stop=3,num=500)\n"
   ]
  },
  {
   "cell_type": "code",
   "execution_count": null,
   "id": "09549e45",
   "metadata": {},
   "outputs": [],
   "source": [
    "#Plot\n",
    "plt.xlim([-3,3])\n",
    "plt.ylim(0,8)\n",
    "plt.xlabel('x',fontsize=16)\n",
    "plt.ylabel('f(x)',fontsize=16)\n",
    "plt.plot(x_1,f(x_1))\n",
    "plt.show()"
   ]
  },
  {
   "cell_type": "markdown",
   "id": "60839675",
   "metadata": {},
   "source": [
    "## Slope & Derivatives"
   ]
  },
  {
   "cell_type": "code",
   "execution_count": null,
   "id": "995cd6e6",
   "metadata": {},
   "outputs": [],
   "source": [
    "def df(x):\n",
    "    return 2*x+1"
   ]
  },
  {
   "cell_type": "code",
   "execution_count": null,
   "id": "800c5038",
   "metadata": {},
   "outputs": [],
   "source": []
  },
  {
   "cell_type": "code",
   "execution_count": null,
   "id": "b4df9eb1",
   "metadata": {},
   "outputs": [],
   "source": [
    "#Plot function and derivative side by side\n",
    "plt.figure(figsize=[15,5])\n",
    "\n",
    "# 1 Chart:Cost function\n",
    "plt.subplot(1,2,1)\n",
    "\n",
    "plt.xlim([-3,3])\n",
    "plt.ylim(0,8)\n",
    "plt.title('Cost function',fontsize=17)\n",
    "plt.xlabel('x',fontsize=16)\n",
    "plt.ylabel('f(x)',fontsize=16)\n",
    "plt.plot(x_1,f(x_1),color=\"blue\",linewidth=3)\n",
    "\n",
    "#2 Chart: Derivative\n",
    "plt.subplot(1,2,2 )\n",
    "\n",
    "plt.title('Slop of the cost function',fontsize=17)\n",
    "\n",
    "plt.xlabel('x',fontsize=16)\n",
    "plt.ylabel('df(x)',fontsize=16)\n",
    "\n",
    "plt.grid()\n",
    "\n",
    "plt.xlim(-2,3)\n",
    "plt.ylim(-3,6)\n",
    "\n",
    "plt.plot(x_1,df(x_1 ),color='skyblue',linewidth=5)\n",
    "plt.show()"
   ]
  },
  {
   "cell_type": "markdown",
   "id": "39c59587",
   "metadata": {},
   "source": [
    " ## Python Loops & Gradient Descent"
   ]
  },
  {
   "cell_type": "code",
   "execution_count": null,
   "id": "ab524d00",
   "metadata": {},
   "outputs": [],
   "source": [
    "#Python For Loop\n",
    "for n in range(5):\n",
    "    print('Hey ..',n)\n",
    "    \n",
    "print('End of loop')    "
   ]
  },
  {
   "cell_type": "code",
   "execution_count": null,
   "id": "97924b4e",
   "metadata": {},
   "outputs": [],
   "source": [
    "#Pythin while loop\n",
    "n = 0 \n",
    "while n < 5:\n",
    "    print('Count..', n)\n",
    "    n= n + 1\n",
    "print('End ..')   "
   ]
  },
  {
   "cell_type": "code",
   "execution_count": null,
   "id": "8654ada7",
   "metadata": {},
   "outputs": [],
   "source": []
  }
 ],
 "metadata": {
  "kernelspec": {
   "display_name": "Python 3 (ipykernel)",
   "language": "python",
   "name": "python3"
  },
  "language_info": {
   "codemirror_mode": {
    "name": "ipython",
    "version": 3
   },
   "file_extension": ".py",
   "mimetype": "text/x-python",
   "name": "python",
   "nbconvert_exporter": "python",
   "pygments_lexer": "ipython3",
   "version": "3.9.7"
  }
 },
 "nbformat": 4,
 "nbformat_minor": 5
}
